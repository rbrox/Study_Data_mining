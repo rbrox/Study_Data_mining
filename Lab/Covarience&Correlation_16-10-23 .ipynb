{
 "cells": [
  {
   "cell_type": "markdown",
   "id": "3fcfe5f0",
   "metadata": {},
   "source": [
    "## 📦Import\n",
    "Here we import the neccary python libraries"
   ]
  },
  {
   "cell_type": "code",
   "execution_count": 1,
   "id": "90864465-f172-4704-b44a-5ec90b783510",
   "metadata": {
    "tags": []
   },
   "outputs": [
    {
     "data": {
      "text/html": [
       "<div>\n",
       "<style scoped>\n",
       "    .dataframe tbody tr th:only-of-type {\n",
       "        vertical-align: middle;\n",
       "    }\n",
       "\n",
       "    .dataframe tbody tr th {\n",
       "        vertical-align: top;\n",
       "    }\n",
       "\n",
       "    .dataframe thead th {\n",
       "        text-align: right;\n",
       "    }\n",
       "</style>\n",
       "<table border=\"1\" class=\"dataframe\">\n",
       "  <thead>\n",
       "    <tr style=\"text-align: right;\">\n",
       "      <th></th>\n",
       "      <th>total_bill</th>\n",
       "      <th>tip</th>\n",
       "      <th>sex</th>\n",
       "      <th>smoker</th>\n",
       "      <th>day</th>\n",
       "      <th>time</th>\n",
       "      <th>size</th>\n",
       "    </tr>\n",
       "  </thead>\n",
       "  <tbody>\n",
       "    <tr>\n",
       "      <th>0</th>\n",
       "      <td>16.99</td>\n",
       "      <td>1.01</td>\n",
       "      <td>Female</td>\n",
       "      <td>No</td>\n",
       "      <td>Sun</td>\n",
       "      <td>Dinner</td>\n",
       "      <td>2</td>\n",
       "    </tr>\n",
       "    <tr>\n",
       "      <th>1</th>\n",
       "      <td>10.34</td>\n",
       "      <td>1.66</td>\n",
       "      <td>Male</td>\n",
       "      <td>No</td>\n",
       "      <td>Sun</td>\n",
       "      <td>Dinner</td>\n",
       "      <td>3</td>\n",
       "    </tr>\n",
       "    <tr>\n",
       "      <th>2</th>\n",
       "      <td>21.01</td>\n",
       "      <td>3.50</td>\n",
       "      <td>Male</td>\n",
       "      <td>No</td>\n",
       "      <td>Sun</td>\n",
       "      <td>Dinner</td>\n",
       "      <td>3</td>\n",
       "    </tr>\n",
       "    <tr>\n",
       "      <th>3</th>\n",
       "      <td>23.68</td>\n",
       "      <td>3.31</td>\n",
       "      <td>Male</td>\n",
       "      <td>No</td>\n",
       "      <td>Sun</td>\n",
       "      <td>Dinner</td>\n",
       "      <td>2</td>\n",
       "    </tr>\n",
       "    <tr>\n",
       "      <th>4</th>\n",
       "      <td>24.59</td>\n",
       "      <td>3.61</td>\n",
       "      <td>Female</td>\n",
       "      <td>No</td>\n",
       "      <td>Sun</td>\n",
       "      <td>Dinner</td>\n",
       "      <td>4</td>\n",
       "    </tr>\n",
       "  </tbody>\n",
       "</table>\n",
       "</div>"
      ],
      "text/plain": [
       "   total_bill   tip     sex smoker  day    time  size\n",
       "0       16.99  1.01  Female     No  Sun  Dinner     2\n",
       "1       10.34  1.66    Male     No  Sun  Dinner     3\n",
       "2       21.01  3.50    Male     No  Sun  Dinner     3\n",
       "3       23.68  3.31    Male     No  Sun  Dinner     2\n",
       "4       24.59  3.61  Female     No  Sun  Dinner     4"
      ]
     },
     "execution_count": 1,
     "metadata": {},
     "output_type": "execute_result"
    }
   ],
   "source": [
    "import pandas as pd\n",
    "from scipy.stats import chi2_contingency \n",
    "from scipy.stats import contingency\n"
   ]
  },
  {
   "cell_type": "markdown",
   "id": "7d9ca6c0",
   "metadata": {},
   "source": [
    "## Construct the dataframe\n",
    "The data has been stashed in another folder named `data` in this self same folder, herin we iport the said data as a `pd.DataFrame`"
   ]
  },
  {
   "cell_type": "code",
   "execution_count": 2,
   "id": "20a3c382",
   "metadata": {},
   "outputs": [
    {
     "data": {
      "text/html": [
       "<div>\n",
       "<style scoped>\n",
       "    .dataframe tbody tr th:only-of-type {\n",
       "        vertical-align: middle;\n",
       "    }\n",
       "\n",
       "    .dataframe tbody tr th {\n",
       "        vertical-align: top;\n",
       "    }\n",
       "\n",
       "    .dataframe thead th {\n",
       "        text-align: right;\n",
       "    }\n",
       "</style>\n",
       "<table border=\"1\" class=\"dataframe\">\n",
       "  <thead>\n",
       "    <tr style=\"text-align: right;\">\n",
       "      <th></th>\n",
       "      <th>total_bill</th>\n",
       "      <th>tip</th>\n",
       "      <th>sex</th>\n",
       "      <th>smoker</th>\n",
       "      <th>day</th>\n",
       "      <th>time</th>\n",
       "      <th>size</th>\n",
       "    </tr>\n",
       "  </thead>\n",
       "  <tbody>\n",
       "    <tr>\n",
       "      <th>0</th>\n",
       "      <td>16.99</td>\n",
       "      <td>1.01</td>\n",
       "      <td>Female</td>\n",
       "      <td>No</td>\n",
       "      <td>Sun</td>\n",
       "      <td>Dinner</td>\n",
       "      <td>2</td>\n",
       "    </tr>\n",
       "    <tr>\n",
       "      <th>1</th>\n",
       "      <td>10.34</td>\n",
       "      <td>1.66</td>\n",
       "      <td>Male</td>\n",
       "      <td>No</td>\n",
       "      <td>Sun</td>\n",
       "      <td>Dinner</td>\n",
       "      <td>3</td>\n",
       "    </tr>\n",
       "    <tr>\n",
       "      <th>2</th>\n",
       "      <td>21.01</td>\n",
       "      <td>3.50</td>\n",
       "      <td>Male</td>\n",
       "      <td>No</td>\n",
       "      <td>Sun</td>\n",
       "      <td>Dinner</td>\n",
       "      <td>3</td>\n",
       "    </tr>\n",
       "    <tr>\n",
       "      <th>3</th>\n",
       "      <td>23.68</td>\n",
       "      <td>3.31</td>\n",
       "      <td>Male</td>\n",
       "      <td>No</td>\n",
       "      <td>Sun</td>\n",
       "      <td>Dinner</td>\n",
       "      <td>2</td>\n",
       "    </tr>\n",
       "    <tr>\n",
       "      <th>4</th>\n",
       "      <td>24.59</td>\n",
       "      <td>3.61</td>\n",
       "      <td>Female</td>\n",
       "      <td>No</td>\n",
       "      <td>Sun</td>\n",
       "      <td>Dinner</td>\n",
       "      <td>4</td>\n",
       "    </tr>\n",
       "  </tbody>\n",
       "</table>\n",
       "</div>"
      ],
      "text/plain": [
       "   total_bill   tip     sex smoker  day    time  size\n",
       "0       16.99  1.01  Female     No  Sun  Dinner     2\n",
       "1       10.34  1.66    Male     No  Sun  Dinner     3\n",
       "2       21.01  3.50    Male     No  Sun  Dinner     3\n",
       "3       23.68  3.31    Male     No  Sun  Dinner     2\n",
       "4       24.59  3.61  Female     No  Sun  Dinner     4"
      ]
     },
     "execution_count": 2,
     "metadata": {},
     "output_type": "execute_result"
    }
   ],
   "source": [
    "path = './data/tips.csv'\n",
    "df = pd.read_csv(path)\n",
    "df.head()"
   ]
  },
  {
   "cell_type": "markdown",
   "id": "3335b84b-f7ac-474a-a018-c02325604241",
   "metadata": {},
   "source": [
    "In the above data we now desire to decisevely state whether any of the attributtes/ features are dependent on one another. \n",
    "Ex: Being a Male might raise smoking probability"
   ]
  },
  {
   "cell_type": "markdown",
   "id": "5f5d7f18-cca3-4d33-a88e-fa6eb468cec5",
   "metadata": {},
   "source": [
    "Now we compute the expected frequuencies assuming that there is no relation between these 2 attributtes:\n",
    "\\begin{align*}\n",
    "\\text{Expected frequency} & = e_{ij} \\\\\n",
    "\\text{Number of samples} & = n \\\\\n",
    "\\text{Attribute 1} & = A, \\quad a_i = \\text{ith nominal field} \\\\\n",
    "\\text{Attribute 2} & = B, \\quad b_i = \\text{ith nominal field} \\\\\n",
    "\\\\\n",
    "e_{ij} & = \\text{Probability}(A = a_i) \\cdot \\text{Probability}(B = b_j) \\cdot n \\\\\n",
    "& = \\frac{\\text{count}(A = a_i)}{n} \\cdot \\frac{\\text{count}(B = b_j)}{n} \\cdot n \\\\\n",
    "& = \\frac{\\text{count}(A = a_i) \\cdot \\text{count}(B = b_j)}{n}\n",
    "\\end{align*}\n"
   ]
  },
  {
   "cell_type": "markdown",
   "id": "c43b118e-42b7-455f-8349-5668bcc620d4",
   "metadata": {},
   "source": [
    "Let is now create an contingency table against all the nominal attributtes "
   ]
  },
  {
   "cell_type": "markdown",
   "id": "6f8b67e5-67bb-4399-9fbc-668efb4e5621",
   "metadata": {},
   "source": [
    "Sex (Gender) against Smoker (whether person is smoking)"
   ]
  },
  {
   "cell_type": "code",
   "execution_count": 32,
   "id": "9cf1f5ad-d1cc-4144-b2dd-fabe20627bd4",
   "metadata": {
    "tags": []
   },
   "outputs": [
    {
     "data": {
      "text/html": [
       "<div>\n",
       "<style scoped>\n",
       "    .dataframe tbody tr th:only-of-type {\n",
       "        vertical-align: middle;\n",
       "    }\n",
       "\n",
       "    .dataframe tbody tr th {\n",
       "        vertical-align: top;\n",
       "    }\n",
       "\n",
       "    .dataframe thead th {\n",
       "        text-align: right;\n",
       "    }\n",
       "</style>\n",
       "<table border=\"1\" class=\"dataframe\">\n",
       "  <thead>\n",
       "    <tr style=\"text-align: right;\">\n",
       "      <th></th>\n",
       "      <th>sex</th>\n",
       "      <th>smoker</th>\n",
       "      <th>day</th>\n",
       "      <th>time</th>\n",
       "    </tr>\n",
       "  </thead>\n",
       "  <tbody>\n",
       "    <tr>\n",
       "      <th>0</th>\n",
       "      <td>Female</td>\n",
       "      <td>No</td>\n",
       "      <td>Sun</td>\n",
       "      <td>Dinner</td>\n",
       "    </tr>\n",
       "    <tr>\n",
       "      <th>1</th>\n",
       "      <td>Male</td>\n",
       "      <td>No</td>\n",
       "      <td>Sun</td>\n",
       "      <td>Dinner</td>\n",
       "    </tr>\n",
       "    <tr>\n",
       "      <th>2</th>\n",
       "      <td>Male</td>\n",
       "      <td>No</td>\n",
       "      <td>Sun</td>\n",
       "      <td>Dinner</td>\n",
       "    </tr>\n",
       "    <tr>\n",
       "      <th>3</th>\n",
       "      <td>Male</td>\n",
       "      <td>No</td>\n",
       "      <td>Sun</td>\n",
       "      <td>Dinner</td>\n",
       "    </tr>\n",
       "    <tr>\n",
       "      <th>4</th>\n",
       "      <td>Female</td>\n",
       "      <td>No</td>\n",
       "      <td>Sun</td>\n",
       "      <td>Dinner</td>\n",
       "    </tr>\n",
       "  </tbody>\n",
       "</table>\n",
       "</div>"
      ],
      "text/plain": [
       "      sex smoker  day    time\n",
       "0  Female     No  Sun  Dinner\n",
       "1    Male     No  Sun  Dinner\n",
       "2    Male     No  Sun  Dinner\n",
       "3    Male     No  Sun  Dinner\n",
       "4  Female     No  Sun  Dinner"
      ]
     },
     "execution_count": 32,
     "metadata": {},
     "output_type": "execute_result"
    }
   ],
   "source": [
    "df_nominal = df[['sex', 'smoker', 'day', 'time']]\n",
    "df_nominal.head()\n"
   ]
  },
  {
   "cell_type": "code",
   "execution_count": 33,
   "id": "11a0244b-c6b5-4d03-8ca3-f701d0888834",
   "metadata": {
    "tags": []
   },
   "outputs": [],
   "source": [
    "def get_combinations(lis: list)-> list:\n",
    "    return_lis = []\n",
    "    for i in range(1, len(lis)):\n",
    "        for j in range(i-1, len(lis)-1):\n",
    "            return_lis.append([lis[i], lis[j]])\n",
    "    return (return_lis)"
   ]
  },
  {
   "cell_type": "code",
   "execution_count": 34,
   "id": "45e2890d-2774-48a2-8c16-f7914f313de7",
   "metadata": {
    "tags": []
   },
   "outputs": [],
   "source": [
    "def get_crosstab_values(df: pd.DataFrame)-> pd.DataFrame:\n",
    "    attrs = get_combinations(df.columns)\n",
    "    df_nominal_crosstabs= []\n",
    "    for attr1, attr2 in attrs:\n",
    "        df_nominal_crosstabs.append(pd.crosstab(df[attr1], df[attr2], margins=True))\n",
    "    return df_nominal_crosstabs\n",
    "\n",
    "\n",
    "    "
   ]
  },
  {
   "cell_type": "code",
   "execution_count": 35,
   "id": "d9473f6c-1344-45a5-ba8a-f46d452b7e3a",
   "metadata": {
    "tags": []
   },
   "outputs": [],
   "source": [
    "def get_observed_values(lis: list[pd.DataFrame])-> pd.DataFrame:\n",
    "    expected_tables = []\n",
    "    for tab in lis:\n",
    "        expected_tables.append(chi2_contingency(tab))\n",
    "    return expected_tables\n"
   ]
  },
  {
   "cell_type": "code",
   "execution_count": null,
   "id": "4b67c519-7ffb-4495-8a9d-b84f8cb7f72e",
   "metadata": {},
   "outputs": [],
   "source": [
    "def chi_evaluator(contingency_table, dof: int, chi: int):\n",
    "    \n",
    "    print('Comnputed Chi Value: ', chi)\n",
    "    print('Degrees of Freedom: ', dof)\n",
    "    from scipy.stats import chi2\n",
    "    sig_lvl = chi2.isf(dof, 0.001)\n",
    "    print('Significance Level: ', sig_lvl)\n",
    "    \n",
    "    if chi > sig_lvl:\n",
    "        \n",
    "        return 'Reject Null Hypothesis'\n",
    "    else:\n",
    "        \n",
    "        return 'Fail to Reject Null Hypothesis'"
   ]
  },
  {
   "cell_type": "code",
   "execution_count": 42,
   "id": "f5a657ec-ed29-4019-b980-c322fb879c83",
   "metadata": {
    "tags": []
   },
   "outputs": [
    {
     "name": "stdout",
     "output_type": "stream",
     "text": [
      "\n",
      "*********************************\n",
      "\n",
      "---------------------------------\n",
      "Attributtes:  ['smoker', 'sex']\n",
      "\n",
      "---------------------------------\n",
      "Computed crosstabs:\n",
      " sex     Female  Male  All\n",
      "smoker                   \n",
      "No          54    97  151\n",
      "Yes         33    60   93\n",
      "All         87   157  244\n",
      "\n",
      "---------------------------------\n",
      "Results: \n",
      "smoker\n",
      "sex\n",
      "\n",
      "*********************************\n",
      "\n",
      "---------------------------------\n",
      "Attributtes:  ['smoker', 'smoker']\n",
      "\n",
      "---------------------------------\n",
      "Computed crosstabs:\n",
      " smoker   No  Yes  All\n",
      "smoker               \n",
      "No      151    0  151\n",
      "Yes       0   93   93\n",
      "All     151   93  244\n",
      "\n",
      "---------------------------------\n",
      "Results: \n",
      "smoker\n",
      "smoker\n",
      "\n",
      "*********************************\n",
      "\n",
      "---------------------------------\n",
      "Attributtes:  ['smoker', 'day']\n",
      "\n",
      "---------------------------------\n",
      "Computed crosstabs:\n",
      " day     Fri  Sat  Sun  Thur  All\n",
      "smoker                          \n",
      "No        4   45   57    45  151\n",
      "Yes      15   42   19    17   93\n",
      "All      19   87   76    62  244\n",
      "\n",
      "---------------------------------\n",
      "Results: \n",
      "smoker\n",
      "day\n",
      "\n",
      "*********************************\n",
      "\n",
      "---------------------------------\n",
      "Attributtes:  ['day', 'smoker']\n",
      "\n",
      "---------------------------------\n",
      "Computed crosstabs:\n",
      " smoker   No  Yes  All\n",
      "day                  \n",
      "Fri       4   15   19\n",
      "Sat      45   42   87\n",
      "Sun      57   19   76\n",
      "Thur     45   17   62\n",
      "All     151   93  244\n",
      "\n",
      "---------------------------------\n",
      "Results: \n",
      "day\n",
      "smoker\n"
     ]
    }
   ],
   "source": [
    "def get_data(df_nominal: pd.DataFrame)-> bool:\n",
    "    nominal_crosstabs = get_crosstab_values(df_nominal)\n",
    "    observed_values= get_observed_values(nominal_crosstabs)\n",
    "    combinations = get_combinations(df_nominal.columns)\n",
    "    result = chi_evaluator\n",
    "    for index in range(len(df_nominal.columns)):\n",
    "        print(\"\\n*********************************\")\n",
    "        print(\"\\n---------------------------------\")\n",
    "        print(\"Attributtes: \", combinations[index])\n",
    "        print(\"\\n---------------------------------\")\n",
    "        print(\"Computed crosstabs:\\n\", nominal_crosstabs[index])\n",
    "        print(\"\\n---------------------------------\")\n",
    "        print(\"Results: \")\n",
    "        for item in combinations[index]:\n",
    "            print(item)\n",
    "get_data(df_nominal)"
   ]
  }
 ],
 "metadata": {
  "kernelspec": {
   "display_name": "Python 3 (ipykernel)",
   "language": "python",
   "name": "python3"
  },
  "language_info": {
   "codemirror_mode": {
    "name": "ipython",
    "version": 3
   },
   "file_extension": ".py",
   "mimetype": "text/x-python",
   "name": "python",
   "nbconvert_exporter": "python",
   "pygments_lexer": "ipython3",
   "version": "3.11.5"
  }
 },
 "nbformat": 4,
 "nbformat_minor": 5
}
