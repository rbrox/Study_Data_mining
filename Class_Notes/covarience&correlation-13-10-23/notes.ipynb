{
 "cells": [
  {
   "cell_type": "markdown",
   "metadata": {},
   "source": [
    "# Chi-Square Test"
   ]
  },
  {
   "cell_type": "code",
   "execution_count": 3,
   "metadata": {},
   "outputs": [],
   "source": [
    "def data_gen():\n",
    "    list1 = []\n",
    "    for i in range(300):\n",
    "        list1.append('male')\n",
    "    for i in range(1200):\n",
    "        list1.append('female')\n",
    "    \n",
    "    list2 = []\n",
    "    for i in range(250):\n",
    "        list2.append('fiction')\n",
    "    for i in range(50):\n",
    "        list2.append('non-fiction')\n",
    "    for i in range(200):\n",
    "        list2.append('fiction')\n",
    "    for i in range(1000):\n",
    "        list2.append('non-fiction')\n",
    "\n",
    "    data = {\n",
    "    'Gender' : list1,\n",
    "    'Preference': list2\n",
    "    }\n",
    "\n",
    "    return data "
   ]
  },
  {
   "cell_type": "code",
   "execution_count": 4,
   "metadata": {},
   "outputs": [
    {
     "data": {
      "text/html": [
       "<div>\n",
       "<style scoped>\n",
       "    .dataframe tbody tr th:only-of-type {\n",
       "        vertical-align: middle;\n",
       "    }\n",
       "\n",
       "    .dataframe tbody tr th {\n",
       "        vertical-align: top;\n",
       "    }\n",
       "\n",
       "    .dataframe thead th {\n",
       "        text-align: right;\n",
       "    }\n",
       "</style>\n",
       "<table border=\"1\" class=\"dataframe\">\n",
       "  <thead>\n",
       "    <tr style=\"text-align: right;\">\n",
       "      <th></th>\n",
       "      <th>Gender</th>\n",
       "      <th>Preference</th>\n",
       "    </tr>\n",
       "  </thead>\n",
       "  <tbody>\n",
       "    <tr>\n",
       "      <th>0</th>\n",
       "      <td>male</td>\n",
       "      <td>fiction</td>\n",
       "    </tr>\n",
       "    <tr>\n",
       "      <th>1</th>\n",
       "      <td>male</td>\n",
       "      <td>fiction</td>\n",
       "    </tr>\n",
       "    <tr>\n",
       "      <th>2</th>\n",
       "      <td>male</td>\n",
       "      <td>fiction</td>\n",
       "    </tr>\n",
       "    <tr>\n",
       "      <th>3</th>\n",
       "      <td>male</td>\n",
       "      <td>fiction</td>\n",
       "    </tr>\n",
       "    <tr>\n",
       "      <th>4</th>\n",
       "      <td>male</td>\n",
       "      <td>fiction</td>\n",
       "    </tr>\n",
       "  </tbody>\n",
       "</table>\n",
       "</div>"
      ],
      "text/plain": [
       "  Gender Preference\n",
       "0   male    fiction\n",
       "1   male    fiction\n",
       "2   male    fiction\n",
       "3   male    fiction\n",
       "4   male    fiction"
      ]
     },
     "execution_count": 4,
     "metadata": {},
     "output_type": "execute_result"
    }
   ],
   "source": [
    "import pandas as pd \n",
    "\n",
    "df = pd.DataFrame(data_gen())\n",
    "df.head()"
   ]
  },
  {
   "cell_type": "code",
   "execution_count": 5,
   "metadata": {},
   "outputs": [
    {
     "data": {
      "text/html": [
       "<div>\n",
       "<style scoped>\n",
       "    .dataframe tbody tr th:only-of-type {\n",
       "        vertical-align: middle;\n",
       "    }\n",
       "\n",
       "    .dataframe tbody tr th {\n",
       "        vertical-align: top;\n",
       "    }\n",
       "\n",
       "    .dataframe thead th {\n",
       "        text-align: right;\n",
       "    }\n",
       "</style>\n",
       "<table border=\"1\" class=\"dataframe\">\n",
       "  <thead>\n",
       "    <tr style=\"text-align: right;\">\n",
       "      <th>Gender</th>\n",
       "      <th>female</th>\n",
       "      <th>male</th>\n",
       "      <th>All</th>\n",
       "    </tr>\n",
       "    <tr>\n",
       "      <th>Preference</th>\n",
       "      <th></th>\n",
       "      <th></th>\n",
       "      <th></th>\n",
       "    </tr>\n",
       "  </thead>\n",
       "  <tbody>\n",
       "    <tr>\n",
       "      <th>fiction</th>\n",
       "      <td>200</td>\n",
       "      <td>250</td>\n",
       "      <td>450</td>\n",
       "    </tr>\n",
       "    <tr>\n",
       "      <th>non-fiction</th>\n",
       "      <td>1000</td>\n",
       "      <td>50</td>\n",
       "      <td>1050</td>\n",
       "    </tr>\n",
       "    <tr>\n",
       "      <th>All</th>\n",
       "      <td>1200</td>\n",
       "      <td>300</td>\n",
       "      <td>1500</td>\n",
       "    </tr>\n",
       "  </tbody>\n",
       "</table>\n",
       "</div>"
      ],
      "text/plain": [
       "Gender       female  male   All\n",
       "Preference                     \n",
       "fiction         200   250   450\n",
       "non-fiction    1000    50  1050\n",
       "All            1200   300  1500"
      ]
     },
     "execution_count": 5,
     "metadata": {},
     "output_type": "execute_result"
    }
   ],
   "source": [
    "contingency_table = pd.crosstab( df['Preference'], df['Gender'], margins = True)\n",
    "(contingency_table).head()  "
   ]
  },
  {
   "cell_type": "markdown",
   "metadata": {},
   "source": [
    "Now we compute the expected frequuencies assuming that there is no relation between these 2 attributtes:\n",
    "\\begin{align*}\n",
    "\\text{Expected frequency} & = e_{ij} \\\\\n",
    "\\text{Number of samples} & = n \\\\\n",
    "\\text{Attribute 1} & = A, \\quad a_i = \\text{ith nominal field} \\\\\n",
    "\\text{Attribute 2} & = B, \\quad b_i = \\text{ith nominal field} \\\\\n",
    "\\\\\n",
    "e_{ij} & = \\text{Probability}(A = a_i) \\cdot \\text{Probability}(B = b_j) \\cdot n \\\\\n",
    "& = \\frac{\\text{count}(A = a_i)}{n} \\cdot \\frac{\\text{count}(B = b_j)}{n} \\cdot n \\\\\n",
    "& = \\frac{\\text{count}(A = a_i) \\cdot \\text{count}(B = b_j)}{n}\n",
    "\\end{align*}\n"
   ]
  },
  {
   "cell_type": "code",
   "execution_count": 6,
   "metadata": {},
   "outputs": [],
   "source": [
    "def expected_value(contingency_table):\n",
    "    expected_table = contingency_table.copy()\n",
    "    for i in contingency_table.index:\n",
    "        for j in contingency_table.columns:\n",
    "            expected_table.loc[i,j] = contingency_table.loc['All',j] * contingency_table.loc[i,'All'] / contingency_table.loc['All','All']\n",
    "    return expected_table"
   ]
  },
  {
   "cell_type": "code",
   "execution_count": 7,
   "metadata": {},
   "outputs": [
    {
     "data": {
      "text/html": [
       "<div>\n",
       "<style scoped>\n",
       "    .dataframe tbody tr th:only-of-type {\n",
       "        vertical-align: middle;\n",
       "    }\n",
       "\n",
       "    .dataframe tbody tr th {\n",
       "        vertical-align: top;\n",
       "    }\n",
       "\n",
       "    .dataframe thead th {\n",
       "        text-align: right;\n",
       "    }\n",
       "</style>\n",
       "<table border=\"1\" class=\"dataframe\">\n",
       "  <thead>\n",
       "    <tr style=\"text-align: right;\">\n",
       "      <th>Gender</th>\n",
       "      <th>female</th>\n",
       "      <th>male</th>\n",
       "      <th>All</th>\n",
       "    </tr>\n",
       "    <tr>\n",
       "      <th>Preference</th>\n",
       "      <th></th>\n",
       "      <th></th>\n",
       "      <th></th>\n",
       "    </tr>\n",
       "  </thead>\n",
       "  <tbody>\n",
       "    <tr>\n",
       "      <th>fiction</th>\n",
       "      <td>360</td>\n",
       "      <td>90</td>\n",
       "      <td>450</td>\n",
       "    </tr>\n",
       "    <tr>\n",
       "      <th>non-fiction</th>\n",
       "      <td>840</td>\n",
       "      <td>210</td>\n",
       "      <td>1050</td>\n",
       "    </tr>\n",
       "    <tr>\n",
       "      <th>All</th>\n",
       "      <td>1200</td>\n",
       "      <td>300</td>\n",
       "      <td>1500</td>\n",
       "    </tr>\n",
       "  </tbody>\n",
       "</table>\n",
       "</div>"
      ],
      "text/plain": [
       "Gender       female  male   All\n",
       "Preference                     \n",
       "fiction         360    90   450\n",
       "non-fiction     840   210  1050\n",
       "All            1200   300  1500"
      ]
     },
     "execution_count": 7,
     "metadata": {},
     "output_type": "execute_result"
    }
   ],
   "source": [
    "eij = expected_value(contingency_table)\n",
    "eij.head()"
   ]
  },
  {
   "cell_type": "code",
   "execution_count": 8,
   "metadata": {},
   "outputs": [],
   "source": [
    "def chi_val(contingency_table, expected_table= None):\n",
    "    if expected_table is None:\n",
    "        expected_table = expected_value(contingency_table)\n",
    "    chi_val = 0\n",
    "    for i in contingency_table.index:\n",
    "        for j in contingency_table.columns:\n",
    "            chi_val += ((contingency_table.loc[i,j] - expected_table.loc[i,j])**2)/expected_table.loc[i,j]\n",
    "    return chi_val"
   ]
  },
  {
   "cell_type": "code",
   "execution_count": 9,
   "metadata": {},
   "outputs": [
    {
     "name": "stdout",
     "output_type": "stream",
     "text": [
      "507.93650793650795\n"
     ]
    }
   ],
   "source": [
    "print(chi_val(contingency_table))\n"
   ]
  },
  {
   "cell_type": "code",
   "execution_count": 10,
   "metadata": {},
   "outputs": [],
   "source": [
    "def get_chi_val(dof = 1, alpha = 0.05):\n",
    "    from scipy.stats import chi2\n",
    "    return chi2.isf(alpha, dof)"
   ]
  },
  {
   "cell_type": "code",
   "execution_count": 11,
   "metadata": {},
   "outputs": [
    {
     "name": "stdout",
     "output_type": "stream",
     "text": [
      "10.827566170662733\n"
     ]
    }
   ],
   "source": [
    "sig_lvl = get_chi_val(1, 0.001)\n",
    "print(sig_lvl)"
   ]
  },
  {
   "cell_type": "code",
   "execution_count": 19,
   "metadata": {},
   "outputs": [],
   "source": [
    "def chi_evaluator(contingency_table):\n",
    "    \n",
    "    print('Contingency Table: \\n', contingency_table)\n",
    "    rows, columns = contingency_table.shape\n",
    "    predicted_chi = chi_val(contingency_table)\n",
    "    print('Comnputed Chi Value: ', predicted_chi)\n",
    "    \n",
    "    print('Degrees of Freedom: ', (rows-2)*(columns-2))\n",
    "    dof = (rows-2)*(columns-2)\n",
    "    sig_lvl = get_chi_val(dof, 0.001)\n",
    "    print('Significance Level: ', sig_lvl)\n",
    "    \n",
    "    \n",
    "    if predicted_chi > sig_lvl:\n",
    "        print('Reject Null Hypothesis')\n",
    "        return 'Reject Null Hypothesis'\n",
    "    else:\n",
    "        print('Fail to Reject Null Hypothesis')\n",
    "        return 'Fail to Reject Null Hypothesis'"
   ]
  },
  {
   "cell_type": "code",
   "execution_count": 20,
   "metadata": {},
   "outputs": [
    {
     "name": "stdout",
     "output_type": "stream",
     "text": [
      "Contingency Table: \n",
      " Gender       female  male   All\n",
      "Preference                     \n",
      "fiction         200   250   450\n",
      "non-fiction    1000    50  1050\n",
      "All            1200   300  1500\n",
      "Comnputed Chi Value:  507.93650793650795\n",
      "Degrees of Freedom:  1\n",
      "Significance Level:  10.827566170662733\n",
      "Reject Null Hypothesis\n"
     ]
    },
    {
     "data": {
      "text/plain": [
       "'Reject Null Hypothesis'"
      ]
     },
     "execution_count": 20,
     "metadata": {},
     "output_type": "execute_result"
    }
   ],
   "source": [
    "contingency_table = pd.crosstab( df['Preference'], df['Gender'], margins = True)\n",
    "chi_evaluator(contingency_table)"
   ]
  },
  {
   "cell_type": "markdown",
   "metadata": {},
   "source": [
    "Above is just a demonstration of how we would code it manually, in actuallity all this functionality is provided to us pre built as demonstrated below\n",
    "\n",
    "See Documentation Here : https://github.com/scipy/scipy/blob/main/scipy/stats/contingency.py "
   ]
  }
 ],
 "metadata": {
  "kernelspec": {
   "display_name": "Python 3",
   "language": "python",
   "name": "python3"
  },
  "language_info": {
   "codemirror_mode": {
    "name": "ipython",
    "version": 3
   },
   "file_extension": ".py",
   "mimetype": "text/x-python",
   "name": "python",
   "nbconvert_exporter": "python",
   "pygments_lexer": "ipython3",
   "version": "3.11.5"
  }
 },
 "nbformat": 4,
 "nbformat_minor": 2
}
